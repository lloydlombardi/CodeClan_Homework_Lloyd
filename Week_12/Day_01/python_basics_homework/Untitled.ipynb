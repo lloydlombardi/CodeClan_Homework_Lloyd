{
 "cells": [
  {
   "cell_type": "markdown",
   "id": "656f57c2",
   "metadata": {},
   "source": [
    "Create a list with the following data, and assign it to a variable named shopping: 'spam' 'ham' 'eggs' 'ham'\n",
    "\n",
    "Then do the following:\n",
    "\n",
    "1. Extract the second element of the list.\n",
    "\n",
    "2. Extract the first to third (inclusive) element of the list.\n",
    "\n",
    "3. Extract only the last element of the list."
   ]
  },
  {
   "cell_type": "code",
   "execution_count": 1,
   "id": "4e4ec050",
   "metadata": {},
   "outputs": [],
   "source": [
    "shopping = [\"spam\", \"ham\", \"eggs\", \"ham\"]"
   ]
  },
  {
   "cell_type": "code",
   "execution_count": 2,
   "id": "8aa6c9a0",
   "metadata": {},
   "outputs": [
    {
     "data": {
      "text/plain": [
       "'ham'"
      ]
     },
     "execution_count": 2,
     "metadata": {},
     "output_type": "execute_result"
    }
   ],
   "source": [
    "shopping[1]"
   ]
  },
  {
   "cell_type": "code",
   "execution_count": 4,
   "id": "7b5dd8c9",
   "metadata": {},
   "outputs": [
    {
     "data": {
      "text/plain": [
       "['spam', 'ham', 'eggs']"
      ]
     },
     "execution_count": 4,
     "metadata": {},
     "output_type": "execute_result"
    }
   ],
   "source": [
    "shopping[:3]"
   ]
  },
  {
   "cell_type": "code",
   "execution_count": 5,
   "id": "8c880361",
   "metadata": {},
   "outputs": [
    {
     "data": {
      "text/plain": [
       "'ham'"
      ]
     },
     "execution_count": 5,
     "metadata": {},
     "output_type": "execute_result"
    }
   ],
   "source": [
    "shopping[-1]"
   ]
  },
  {
   "cell_type": "markdown",
   "id": "7e1bee20",
   "metadata": {},
   "source": [
    "Set up a list with the following elements:\n",
    "\n",
    "stops = [\"Croy\", \"Cumbernauld\", \"Falkirk High\", \"Linlithgow\", \"Livingston\", \"Haymarket\"]\n",
    "\n",
    "Perform the following:\n",
    "\n",
    "1. Append Edinburgh Waverley to the end of the list\n",
    "2. Add \"Queen Street\" to the start of the list\n",
    "3. Find out what index \"Croy\" is at in the list\n",
    "4. Add \"Polmont\" at the appropriate point (between \"Falkirk High\" and \"Linlithgow\")\n",
    "5. Remove \"Haymarket\" from the list of stops\n",
    "6. Remove all items from stops"
   ]
  },
  {
   "cell_type": "code",
   "execution_count": 6,
   "id": "8c116c64",
   "metadata": {},
   "outputs": [],
   "source": [
    "stops = [\"Croy\", \"Cumbernauld\", \"Falkirk High\", \"Linlithgow\", \"Livingston\", \"Haymarket\"]"
   ]
  },
  {
   "cell_type": "code",
   "execution_count": 7,
   "id": "359b8b12",
   "metadata": {},
   "outputs": [
    {
     "data": {
      "text/plain": [
       "['Croy',\n",
       " 'Cumbernauld',\n",
       " 'Falkirk High',\n",
       " 'Linlithgow',\n",
       " 'Livingston',\n",
       " 'Haymarket',\n",
       " 'Edinburgh Waverly']"
      ]
     },
     "execution_count": 7,
     "metadata": {},
     "output_type": "execute_result"
    }
   ],
   "source": [
    "stops.append(\"Edinburgh Waverly\")\n",
    "\n",
    "stops"
   ]
  },
  {
   "cell_type": "code",
   "execution_count": 11,
   "id": "39aed31b",
   "metadata": {},
   "outputs": [
    {
     "data": {
      "text/plain": [
       "['Queen Street',\n",
       " 'Croy',\n",
       " 'Cumbernauld',\n",
       " 'Falkirk High',\n",
       " 'Linlithgow',\n",
       " 'Livingston',\n",
       " 'Haymarket',\n",
       " 'Edinburgh Waverly']"
      ]
     },
     "execution_count": 11,
     "metadata": {},
     "output_type": "execute_result"
    }
   ],
   "source": [
    "stops.insert(0, \"Queen Street\")\n",
    "\n",
    "stops"
   ]
  },
  {
   "cell_type": "code",
   "execution_count": 14,
   "id": "612e50f7",
   "metadata": {},
   "outputs": [
    {
     "data": {
      "text/plain": [
       "1"
      ]
     },
     "execution_count": 14,
     "metadata": {},
     "output_type": "execute_result"
    }
   ],
   "source": [
    "stops.index(\"Croy\")"
   ]
  },
  {
   "cell_type": "code",
   "execution_count": 15,
   "id": "e58523d2",
   "metadata": {},
   "outputs": [
    {
     "data": {
      "text/plain": [
       "['Queen Street',\n",
       " 'Croy',\n",
       " 'Cumbernauld',\n",
       " 'Falkirk High',\n",
       " 'Polmont',\n",
       " 'Linlithgow',\n",
       " 'Livingston',\n",
       " 'Haymarket',\n",
       " 'Edinburgh Waverly']"
      ]
     },
     "execution_count": 15,
     "metadata": {},
     "output_type": "execute_result"
    }
   ],
   "source": [
    "stops.insert(4, \"Polmont\")\n",
    "\n",
    "stops"
   ]
  },
  {
   "cell_type": "code",
   "execution_count": 16,
   "id": "2315fb74",
   "metadata": {},
   "outputs": [
    {
     "data": {
      "text/plain": [
       "['Queen Street',\n",
       " 'Croy',\n",
       " 'Cumbernauld',\n",
       " 'Falkirk High',\n",
       " 'Polmont',\n",
       " 'Linlithgow',\n",
       " 'Livingston',\n",
       " 'Edinburgh Waverly']"
      ]
     },
     "execution_count": 16,
     "metadata": {},
     "output_type": "execute_result"
    }
   ],
   "source": [
    "stops.remove(\"Haymarket\")\n",
    "\n",
    "stops"
   ]
  },
  {
   "cell_type": "code",
   "execution_count": 19,
   "id": "9acbc69e",
   "metadata": {},
   "outputs": [
    {
     "data": {
      "text/plain": [
       "[]"
      ]
     },
     "execution_count": 19,
     "metadata": {},
     "output_type": "execute_result"
    }
   ],
   "source": [
    "stops.clear()\n",
    "\n",
    "stops"
   ]
  },
  {
   "cell_type": "markdown",
   "id": "ead966b1",
   "metadata": {},
   "source": [
    "Set up the following dictionary:\n",
    "\n",
    "person = {\"name\": \"Steph\", \"age\": 31, \"Instructor\" : True}\n",
    "\n",
    "Do the following:\n",
    "\n",
    "1. Return the keys, values and items from this dictionary\n",
    "\n",
    "2. Take out only the name from it\n",
    "\n",
    "3. Add a new key:value pair, which adds the email \"steph@codeclan.com\" to the dictionary\n",
    "\n",
    "4. Delete the job description from the dictionary (Hint: look up the del function)"
   ]
  },
  {
   "cell_type": "code",
   "execution_count": 20,
   "id": "12391e66",
   "metadata": {},
   "outputs": [],
   "source": [
    "person = {\n",
    "    \"name\": \"Steph\",\n",
    "    \"age\": 31,\n",
    "    \"instructor\": True\n",
    "}"
   ]
  },
  {
   "cell_type": "code",
   "execution_count": 22,
   "id": "974ae9a4",
   "metadata": {},
   "outputs": [
    {
     "data": {
      "text/plain": [
       "dict_keys(['name', 'age', 'instructor'])"
      ]
     },
     "execution_count": 22,
     "metadata": {},
     "output_type": "execute_result"
    }
   ],
   "source": [
    "person.keys()"
   ]
  },
  {
   "cell_type": "code",
   "execution_count": 23,
   "id": "3965f09f",
   "metadata": {},
   "outputs": [
    {
     "data": {
      "text/plain": [
       "dict_values(['Steph', 31, True])"
      ]
     },
     "execution_count": 23,
     "metadata": {},
     "output_type": "execute_result"
    }
   ],
   "source": [
    "person.values()"
   ]
  },
  {
   "cell_type": "code",
   "execution_count": 24,
   "id": "2e4b1607",
   "metadata": {},
   "outputs": [
    {
     "data": {
      "text/plain": [
       "dict_items([('name', 'Steph'), ('age', 31), ('instructor', True)])"
      ]
     },
     "execution_count": 24,
     "metadata": {},
     "output_type": "execute_result"
    }
   ],
   "source": [
    "person.items()"
   ]
  },
  {
   "cell_type": "code",
   "execution_count": 25,
   "id": "af0ebdfc",
   "metadata": {},
   "outputs": [
    {
     "data": {
      "text/plain": [
       "'Steph'"
      ]
     },
     "execution_count": 25,
     "metadata": {},
     "output_type": "execute_result"
    }
   ],
   "source": [
    "person.pop(\"name\")"
   ]
  },
  {
   "cell_type": "code",
   "execution_count": 26,
   "id": "35d7243f",
   "metadata": {},
   "outputs": [
    {
     "data": {
      "text/plain": [
       "{'age': 31, 'instructor': True, 'email': 'steph@codeclan.com'}"
      ]
     },
     "execution_count": 26,
     "metadata": {},
     "output_type": "execute_result"
    }
   ],
   "source": [
    "person.update({\n",
    "    \"email\": \"steph@codeclan.com\"\n",
    "})\n",
    "\n",
    "person"
   ]
  },
  {
   "cell_type": "code",
   "execution_count": 27,
   "id": "f2ca5ad0",
   "metadata": {},
   "outputs": [
    {
     "data": {
      "text/plain": [
       "{'age': 31, 'email': 'steph@codeclan.com'}"
      ]
     },
     "execution_count": 27,
     "metadata": {},
     "output_type": "execute_result"
    }
   ],
   "source": [
    "del person[\"instructor\"]\n",
    "\n",
    "person"
   ]
  },
  {
   "cell_type": "markdown",
   "id": "005865d0",
   "metadata": {},
   "source": [
    "For the following list of numbers:\n",
    "\n",
    "numbers = [1, 6, 2, 2, 7, 1, 6, 13, 99, 7]\n",
    "\n",
    "1. Print out a list of the even integers:\n",
    "\n",
    "2. Print the difference between the largest and smallest value:\n",
    "\n",
    "3. Print True if the list contains a 2 next to a 2 somewhere.\n",
    "\n",
    "4. Print the sum of the numbers, BUT ignore any section of numbers starting with a 6 and extending to the next 7. So [11, 6, 4, 99, 7, 11] would have sum of 22"
   ]
  },
  {
   "cell_type": "code",
   "execution_count": 28,
   "id": "c2d8449a",
   "metadata": {},
   "outputs": [],
   "source": [
    "numbers = [1, 6, 2, 2, 7, 1, 6, 13, 99, 7]"
   ]
  },
  {
   "cell_type": "code",
   "execution_count": 32,
   "id": "1fd0f073",
   "metadata": {},
   "outputs": [
    {
     "data": {
      "text/plain": [
       "[2, 2, 6, 6]"
      ]
     },
     "execution_count": 32,
     "metadata": {},
     "output_type": "execute_result"
    }
   ],
   "source": [
    "[number for number in numbers if number % 2 == 0]"
   ]
  },
  {
   "cell_type": "code",
   "execution_count": 35,
   "id": "50d3982c",
   "metadata": {},
   "outputs": [
    {
     "data": {
      "text/plain": [
       "98"
      ]
     },
     "execution_count": 35,
     "metadata": {},
     "output_type": "execute_result"
    }
   ],
   "source": [
    "numbers.sort()\n",
    "\n",
    "numbers[-1] - numbers[0]"
   ]
  },
  {
   "cell_type": "code",
   "execution_count": 48,
   "id": "8f36499c",
   "metadata": {},
   "outputs": [
    {
     "data": {
      "text/plain": [
       "[2, 2]"
      ]
     },
     "execution_count": 48,
     "metadata": {},
     "output_type": "execute_result"
    }
   ],
   "source": []
  },
  {
   "cell_type": "code",
   "execution_count": null,
   "id": "6a09040a",
   "metadata": {},
   "outputs": [],
   "source": []
  },
  {
   "cell_type": "markdown",
   "id": "c328ba4b",
   "metadata": {},
   "source": [
    "Write a conditional that takes in two inputs :\n",
    "\n",
    "* python_is_fun = True\n",
    "* python_is_weird = True\n",
    "\n",
    "<br>We want to print \"Woo Python!\" if either python_is_fun is true OR python_is_weird is true OR both python_is_fun and python_is_weird are true. Otherwise, print \"Python is not for me!\". Make sure you test all the combinations."
   ]
  },
  {
   "cell_type": "code",
   "execution_count": 64,
   "id": "f17ee83b",
   "metadata": {},
   "outputs": [],
   "source": [
    "python_is_fun = False\n",
    "python_is_werid = True"
   ]
  },
  {
   "cell_type": "code",
   "execution_count": 65,
   "id": "cd709a73",
   "metadata": {},
   "outputs": [
    {
     "name": "stdout",
     "output_type": "stream",
     "text": [
      "Woo Python\n"
     ]
    }
   ],
   "source": [
    "if python_is_fun == True or python_is_werid == True:\n",
    "    print(\"Woo Python\")\n",
    "elif python_is_fun == True and python_is_werid == True:\n",
    "    print(\"Woo Python\")\n",
    "else:\n",
    "    print(\"Python is not for me!\")"
   ]
  },
  {
   "cell_type": "markdown",
   "id": "f31fb11c",
   "metadata": {},
   "source": [
    "We have a list of chickens and the farmer would like to go through all the chickens, collecting the eggs and getting the total number of eggs collected.\n",
    "\n",
    "chickens = [\n",
    "  { \"name\": \"Margaret\", \"age\": 2, \"eggs\": 0 },\n",
    "  { \"name\": \"Hetty\", \"age\": 1, \"eggs\": 2 },\n",
    "  { \"name\": \"Henrietta\", \"age\": 3, \"eggs\": 1 },\n",
    "  { \"name\": \"Audrey\", \"age\": 2, \"eggs\": 0 },\n",
    "  { \"name\": \"Mabel\", \"age\": 5, \"eggs\": 1 },\n",
    "]\n",
    "\n",
    "To write this as a loop, we'd do something like this:\n",
    "\n",
    "total_eggs = 0\n",
    "\n",
    "for chicken in chickens:\n",
    "    total_eggs += chicken[\"eggs\"]\n",
    "    chicken[\"eggs\"] = 0 # eggs have been collected\n",
    "\n",
    "print(f\"{total_eggs} eggs collected\")\n",
    "\n",
    "Instead, we want to define a function which passes in a list, so that if we wanted to count eggs of a different list of chickens from another farm, we can use the same function, just pass in a different list.\n",
    "\n",
    "We also want to return the string at the end, instead of using print."
   ]
  },
  {
   "cell_type": "code",
   "execution_count": 70,
   "id": "7e3b9116",
   "metadata": {},
   "outputs": [],
   "source": [
    "chickens = {\n",
    "    \"name\": [\"Margaret\", \"Hetty\", \"Henrietta\", \"Audrey\", \"Mabel\"],\n",
    "    \"age\": [2, 1, 3, 2, 5],\n",
    "    \"eggs\": [0, 2, 1, 0, 1]\n",
    "}\n",
    "\n",
    "def egg_function(list):\n",
    "    total_eggs = 0\n",
    "    for number in chickens[\"eggs\"]:\n",
    "        total_eggs += number\n",
    "    return str(total_eggs) + \" eggs collected\""
   ]
  },
  {
   "cell_type": "code",
   "execution_count": 72,
   "id": "7f5b6c23",
   "metadata": {},
   "outputs": [
    {
     "data": {
      "text/plain": [
       "'4 eggs collected'"
      ]
     },
     "execution_count": 72,
     "metadata": {},
     "output_type": "execute_result"
    }
   ],
   "source": [
    "egg_function(chickens)"
   ]
  },
  {
   "cell_type": "code",
   "execution_count": null,
   "id": "b0f18cc1",
   "metadata": {},
   "outputs": [],
   "source": []
  },
  {
   "cell_type": "code",
   "execution_count": null,
   "id": "5e06fb58",
   "metadata": {},
   "outputs": [],
   "source": []
  },
  {
   "cell_type": "code",
   "execution_count": null,
   "id": "90761250",
   "metadata": {},
   "outputs": [],
   "source": []
  },
  {
   "cell_type": "code",
   "execution_count": null,
   "id": "72f080ce",
   "metadata": {},
   "outputs": [],
   "source": []
  },
  {
   "cell_type": "code",
   "execution_count": null,
   "id": "cdc3d1b1",
   "metadata": {},
   "outputs": [],
   "source": []
  },
  {
   "cell_type": "code",
   "execution_count": null,
   "id": "a607fe88",
   "metadata": {},
   "outputs": [],
   "source": []
  },
  {
   "cell_type": "code",
   "execution_count": null,
   "id": "44df98f4",
   "metadata": {},
   "outputs": [],
   "source": []
  },
  {
   "cell_type": "code",
   "execution_count": null,
   "id": "6231d607",
   "metadata": {},
   "outputs": [],
   "source": []
  },
  {
   "cell_type": "code",
   "execution_count": null,
   "id": "8d5be471",
   "metadata": {},
   "outputs": [],
   "source": []
  },
  {
   "cell_type": "code",
   "execution_count": null,
   "id": "ab4349bf",
   "metadata": {},
   "outputs": [],
   "source": []
  },
  {
   "cell_type": "code",
   "execution_count": null,
   "id": "14283302",
   "metadata": {},
   "outputs": [],
   "source": []
  },
  {
   "cell_type": "code",
   "execution_count": null,
   "id": "531ceba4",
   "metadata": {},
   "outputs": [],
   "source": []
  },
  {
   "cell_type": "code",
   "execution_count": null,
   "id": "80a0815b",
   "metadata": {},
   "outputs": [],
   "source": []
  },
  {
   "cell_type": "code",
   "execution_count": null,
   "id": "c853c635",
   "metadata": {},
   "outputs": [],
   "source": []
  },
  {
   "cell_type": "code",
   "execution_count": null,
   "id": "29ba3425",
   "metadata": {},
   "outputs": [],
   "source": []
  }
 ],
 "metadata": {
  "kernelspec": {
   "display_name": "Python 3 (ipykernel)",
   "language": "python",
   "name": "python3"
  },
  "language_info": {
   "codemirror_mode": {
    "name": "ipython",
    "version": 3
   },
   "file_extension": ".py",
   "mimetype": "text/x-python",
   "name": "python",
   "nbconvert_exporter": "python",
   "pygments_lexer": "ipython3",
   "version": "3.9.12"
  },
  "varInspector": {
   "cols": {
    "lenName": 16,
    "lenType": 16,
    "lenVar": 40
   },
   "kernels_config": {
    "python": {
     "delete_cmd_postfix": "",
     "delete_cmd_prefix": "del ",
     "library": "var_list.py",
     "varRefreshCmd": "print(var_dic_list())"
    },
    "r": {
     "delete_cmd_postfix": ") ",
     "delete_cmd_prefix": "rm(",
     "library": "var_list.r",
     "varRefreshCmd": "cat(var_dic_list()) "
    }
   },
   "types_to_exclude": [
    "module",
    "function",
    "builtin_function_or_method",
    "instance",
    "_Feature"
   ],
   "window_display": false
  }
 },
 "nbformat": 4,
 "nbformat_minor": 5
}
